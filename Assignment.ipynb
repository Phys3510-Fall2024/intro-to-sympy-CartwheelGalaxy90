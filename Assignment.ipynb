{
 "cells": [
  {
   "cell_type": "markdown",
   "id": "f5cc4d99-db9a-4ca0-b920-1443edfd56c8",
   "metadata": {},
   "source": [
    "## Testing the transient solution to the damped harmonic oscillator\n",
    "\n",
    "We want to check that \n",
    "\n",
    "$Q_{tr} = A e^{- \\gamma t} cos(\\omega_\\gamma t) + B e^{- \\gamma t} sin(\\omega_\\gamma t)$\n",
    "\n",
    "is a solution to \n",
    "\n",
    "$\\ddot{Q} + 2 \\gamma \\dot{Q} + \\omega_0^2 Q = 0$"
   ]
  },
  {
   "cell_type": "code",
   "execution_count": 28,
   "id": "8ca6d4b8-f9b3-4b3b-8052-682e63966b19",
   "metadata": {},
   "outputs": [
    {
     "data": {
      "text/plain": [
       "True"
      ]
     },
     "execution_count": 28,
     "metadata": {},
     "output_type": "execute_result"
    }
   ],
   "source": [
    "# Import needed modules/libraries\n",
    "import sympy as sp\n",
    "\n",
    "# Define all needed variables\n",
    "A, B, omega_0, omega_gamma, gamma, t = sp.symbols(\"A, B, omega_0, omega_gamma, gamma, t\", real=True)\n",
    "Q = sp.Function(\"Q\")(t)\n",
    "\n",
    "# Define the differential equation as the left-hand side (which must equal 0 when F_0 = 0)\n",
    "diff_eq_ref = sp.diff(Q,t,2) + 2*gamma*sp.diff(Q,t,1) + (omega_0)**2*Q\n",
    "\n",
    "# Define our guess for the solution and omega_gamma\n",
    "Q_tr_guess = sp.exp(-gamma*t)*(A*sp.cos(omega_gamma*t) + B*sp.sin(omega_gamma*t))\n",
    "omega_gamma_expr = sp.sqrt(omega_0**2 - gamma**2)\n",
    "\n",
    "# Plug our guess into the differential equation; includes taking derivatives\n",
    "diff_eq_test = sp.diff(Q_tr_guess,t,2) + 2*gamma*sp.diff(Q_tr_guess,t,1) + (omega_0)**2*Q_tr_guess\n",
    "\n",
    "#diff_eq_test.simplify()\n",
    "test_result = diff_eq_test.subs(omega_gamma,omega_gamma_expr).simplify().is_zero\n",
    "test_result"
   ]
  },
  {
   "cell_type": "markdown",
   "id": "14cb3c24-3aff-4abc-8ccc-5396fef14095",
   "metadata": {},
   "source": [
    "## Deriving the steady solution to the damped, driven harmonic oscillator\n",
    "\n",
    "We want to solve\n",
    "\n",
    "$\\ddot{Q} + 2 \\gamma \\dot{Q} + \\omega_0^2 Q = \\frac{F_0}{m} e^{i \\omega t}$\n",
    "\n",
    "with\n",
    "\n",
    "$Q_s = C e^{i \\omega t}$"
   ]
  },
  {
   "cell_type": "code",
   "execution_count": 26,
   "id": "0cce99aa-165d-4e5a-9b68-cd8824936540",
   "metadata": {},
   "outputs": [
    {
     "data": {
      "text/latex": [
       "$\\displaystyle \\frac{F_{0} \\cos{\\left(\\omega t \\right)}}{m} = \\frac{F_{0} e^{i \\omega t}}{m}$"
      ],
      "text/plain": [
       "Eq(F_0*cos(omega*t)/m, F_0*exp(I*omega*t)/m)"
      ]
     },
     "execution_count": 26,
     "metadata": {},
     "output_type": "execute_result"
    }
   ],
   "source": [
    "# Import needed modules/libraries\n",
    "import sympy as sp\n",
    "\n",
    "# Define all needed variables and functions\n",
    "omega_0, omega, gamma, t, F_0, m = sp.symbols(\"omega_0, omega, gamma, t, F_0, m\", real=True)\n",
    "C = sp.symbols(\"C\",complex=True)\n",
    "Q = sp.Function(\"Q\")(t)\n",
    "F = sp.Function(\"F\")(t)\n",
    "\n",
    "# Define the differential equation\n",
    "diff_eq_ref1 = sp.Eq(\n",
    "    sp.diff(Q,t,2) + 2*gamma*sp.diff(Q,t,1) + (omega_0)**2*Q,  # LHS\n",
    "    F_0/m # RHS\n",
    ")\n",
    "\n",
    "# Define our guess for the solution\n",
    "Q_st_guess = C*sp.exp(sp.I*omega*t)\n",
    "drive_expr = (F_0/m)*sp.exp(sp.I*omega*t)\n",
    "drive_real = sp.re(drive_expr)\n",
    "\n",
    "# Plug in our guess\n",
    "diff_eqn_guess = sp.Eq(\n",
    "    sp.diff(Q_st_guess,t,2) + 2*gamma*sp.diff(Q_st_guess,t,1) + (omega_0)**2*Q_st_guess,  # LHS\n",
    "    drive_expr # RHS\n",
    ")\n",
    "# Solve for the coefficient C\n",
    "C_sol = sp.solve(diff_eqn_guess,C)[0]\n",
    "\n",
    "# Find the real part of the solution\n",
    "Q_sol = sp.re(sp.expand_complex(C_sol*sp.exp(sp.I*omega*t)).simplify())\n",
    "\n",
    "# Plug the real part of the solution into the differential equation\n",
    "sp.Eq(\n",
    "    sp.diff(Q_sol,t,2) + 2*gamma*sp.diff(Q_sol,t,1) + (omega_0)**2*Q_sol,  #LHS\n",
    "    drive_expr #RHS\n",
    ").simplify()\n",
    "\n",
    "# Test the alternative, analytic form of the solution"
   ]
  },
  {
   "cell_type": "markdown",
   "id": "b91e9b40-e459-4c10-8ed3-a9efda39e6c9",
   "metadata": {},
   "source": [
    "## Testing the analytic form of the solution"
   ]
  },
  {
   "cell_type": "code",
   "execution_count": 36,
   "id": "297926ec-e9fa-4762-b5d2-1c0c10b0a2d0",
   "metadata": {},
   "outputs": [],
   "source": [
    "import sympy as sp\n",
    "\n",
    "# Define the symbols\n",
    "gamma, omega_0, F_0, m, omega, phi = sp.symbols('gamma omega_0 F_0 m omega phi')\n",
    "t = sp.symbols('t')\n",
    "Q = sp.Function('Q')(t)"
   ]
  },
  {
   "cell_type": "code",
   "execution_count": 39,
   "id": "43c74d81-8970-46a8-ba3d-b9104c792a15",
   "metadata": {},
   "outputs": [],
   "source": [
    "# Define the particular solution\n",
    "Q_s = (F_0/m) / sp.sqrt((omega_0**2 - omega**2)**2 + 4*gamma**2*omega**2) * sp.cos(omega*t - phi)"
   ]
  },
  {
   "cell_type": "code",
   "execution_count": 40,
   "id": "ea6cc63a-6c98-49a7-87d9-3c400878bb28",
   "metadata": {},
   "outputs": [],
   "source": [
    "# First and second derivatives\n",
    "Q_s_prime = Q_s.diff(t)\n",
    "Q_s_double_prime = Q_s_prime.diff(t)"
   ]
  },
  {
   "cell_type": "code",
   "execution_count": 43,
   "id": "1b7da32c-a650-438f-a1b4-0937141c8f0a",
   "metadata": {},
   "outputs": [
    {
     "data": {
      "text/latex": [
       "$\\displaystyle \\frac{F_{0} \\left(- 2 \\gamma \\omega \\sin{\\left(\\omega t - \\phi \\right)} - \\omega^{2} \\cos{\\left(\\omega t - \\phi \\right)} + \\omega_{0}^{2} \\cos{\\left(\\omega t - \\phi \\right)} - \\sqrt{4 \\gamma^{2} \\omega^{2} + \\left(\\omega^{2} - \\omega_{0}^{2}\\right)^{2}} \\sin{\\left(\\omega t + \\phi \\right)}\\right)}{m \\sqrt{4 \\gamma^{2} \\omega^{2} + \\left(\\omega^{2} - \\omega_{0}^{2}\\right)^{2}}}$"
      ],
      "text/plain": [
       "F_0*(-2*gamma*omega*sin(omega*t - phi) - omega**2*cos(omega*t - phi) + omega_0**2*cos(omega*t - phi) - sqrt(4*gamma**2*omega**2 + (omega**2 - omega_0**2)**2)*sin(omega*t + phi))/(m*sqrt(4*gamma**2*omega**2 + (omega**2 - omega_0**2)**2))"
      ]
     },
     "execution_count": 43,
     "metadata": {},
     "output_type": "execute_result"
    }
   ],
   "source": [
    "# Define the left side of the differential equation\n",
    "lhs = Q_s_double_prime + 2*gamma*Q_s_prime + omega_0**2*Q_s\n",
    "\n",
    "# Define the right side of the differential equation\n",
    "rhs = (F_0/m) * sp.sin(omega*t + phi)\n",
    "\n",
    "# Simplify the difference\n",
    "difference = sp.simplify(lhs - rhs)\n",
    "difference"
   ]
  },
  {
   "cell_type": "markdown",
   "id": "765db71d-9e6d-442d-943b-7ad6569523da",
   "metadata": {},
   "source": [
    "There is a difference between the left-hand side and the right-hand side, so our solution is wrong."
   ]
  },
  {
   "cell_type": "markdown",
   "id": "bd98f888-a14c-43af-9e17-e4e5a5fd6a8d",
   "metadata": {},
   "source": [
    "## Deriving the steady solution to the damped, driven harmonic oscillator\n",
    "\n",
    "We want to solve\n",
    "\n",
    "$\\ddot{Q} + 2 \\gamma \\dot{Q} + \\omega_0^2 Q = \\frac{F_0}{m} sin(\\omega t)$\n",
    "\n",
    "with\n",
    "\n",
    "$Q_s = \\bar{C} cos(\\omega t - \\phi)$ where $\\bar{C} = \\frac{F_0/m}{\\sqrt{(\\omega_0^2-\\omega^2)^2+4\\gamma^2\\omega^2}}$ and $tan(\\phi) = \\frac{2\\gamma\\omega}{\\omega_0^2-\\omega^2}$"
   ]
  },
  {
   "cell_type": "code",
   "execution_count": 25,
   "id": "e1ce865d-e4cd-499c-b1be-5f003f30ffad",
   "metadata": {},
   "outputs": [
    {
     "data": {
      "text/latex": [
       "$\\displaystyle - \\frac{2 F_{0} \\gamma \\omega \\sin{\\left(\\omega t - \\phi \\right)}}{m \\sqrt{4 \\gamma^{2} \\omega^{2} + \\omega^{4} - 2 \\omega^{2} \\omega_{0}^{2} + \\omega_{0}^{4}}} - \\frac{F_{0} \\omega^{2} \\cos{\\left(\\omega t - \\phi \\right)}}{m \\sqrt{4 \\gamma^{2} \\omega^{2} + \\omega^{4} - 2 \\omega^{2} \\omega_{0}^{2} + \\omega_{0}^{4}}} + \\frac{F_{0} \\omega_{0}^{2} \\cos{\\left(\\omega t - \\phi \\right)}}{m \\sqrt{4 \\gamma^{2} \\omega^{2} + \\omega^{4} - 2 \\omega^{2} \\omega_{0}^{2} + \\omega_{0}^{4}}} = \\frac{F_{0} \\sin{\\left(\\omega t + \\phi \\right)}}{m}$"
      ],
      "text/plain": [
       "Eq(-2*F_0*gamma*omega*sin(omega*t - phi)/(m*sqrt(4*gamma**2*omega**2 + omega**4 - 2*omega**2*omega_0**2 + omega_0**4)) - F_0*omega**2*cos(omega*t - phi)/(m*sqrt(4*gamma**2*omega**2 + omega**4 - 2*omega**2*omega_0**2 + omega_0**4)) + F_0*omega_0**2*cos(omega*t - phi)/(m*sqrt(4*gamma**2*omega**2 + omega**4 - 2*omega**2*omega_0**2 + omega_0**4)), F_0*sin(omega*t + phi)/m)"
      ]
     },
     "execution_count": 25,
     "metadata": {},
     "output_type": "execute_result"
    }
   ],
   "source": [
    "# Import needed modules/libraries\n",
    "import sympy as sp\n",
    "\n",
    "# Define all needed variables and functions\n",
    "omega_0, omega, gamma, t, F_0, m, phi = sp.symbols(\"omega_0, omega, gamma, t, F_0, m, phi\", real=True)\n",
    "alpha = sp.symbols(\"alpha\")\n",
    "Q = sp.Function(\"Q\")(t)\n",
    "F = sp.Function(\"F\")(t)\n",
    "\n",
    "# Define the differential equation\n",
    "diff_eq_ref2 = sp.Eq(\n",
    "sp.diff(Q, t, 2) + 2 * gamma * sp.diff(Q, t, 1) + (omega_0)**2 * Q,\n",
    "(F_0 / m) * sp.sin(omega * t + phi)\n",
    ")\n",
    "\n",
    "# Define our guess for the solution\n",
    "alpha = (F_0 / m) / sp.sqrt(((omega_0)**2 - omega**2)**2 + 4 * gamma**2 * omega**2)\n",
    "Q_st_guess2 = alpha * sp.cos(omega * t - phi)\n",
    "\n",
    "# Plug in our guess\n",
    "diff_eq_guess2 = sp.Eq(\n",
    "sp.diff(Q_st_guess2, t, 2) + 2 * gamma * sp.diff(Q_st_guess2, t, 1) + (omega_0)**2 * Q_st_guess2,\n",
    "(F_0 / m) * sp.sin(omega * t + phi)\n",
    ").expand()\n",
    "\n",
    "diff_eq_guess2"
   ]
  },
  {
   "cell_type": "markdown",
   "id": "2135531f-0638-4c80-b5f5-a2434ade07dd",
   "metadata": {},
   "source": [
    "$$ m \\ddot{Q} + 2 \\gamma m \\dot{Q} + k Q = F_0 \\sin(\\omega t + \\phi) $$  \n",
    "$$ \\ddot{Q} + 2 \\gamma \\dot{Q} + \\omega_0^2 Q = \\frac{F_0}{m} \\sin(\\omega t + \\phi) $$ \n",
    "\n",
    "## Assignment (1): Use `SymPy` to test the solutions we derived in class last week. \n",
    "\n",
    "$Q_{tr} = A e^{- \\gamma t} cos(\\omega_\\gamma t) + B e^{- \\gamma t} sin(\\omega_\\gamma t)$ and $Q_{st} = \\bar{C} cos(\\omega t - \\phi)$\n",
    "\n",
    "where\n",
    "\n",
    "$\\omega_\\gamma = \\sqrt{\\omega_0^2 - \\gamma^2}$, $\\bar{C} = \\frac{F_0/m}{\\sqrt{(\\omega_0^2-\\omega^2)^2+4\\gamma^2\\omega^2}}$, and $tan(\\phi) = \\frac{2\\gamma\\omega}{\\omega_0^2-\\omega^2}$"
   ]
  },
  {
   "cell_type": "markdown",
   "id": "43b24e5d-ca73-4c42-81ac-bed7ead5d2b9",
   "metadata": {},
   "source": [
    "## Having `SymPy` solve the differential equation"
   ]
  },
  {
   "cell_type": "code",
   "execution_count": 2,
   "id": "e51f692c-4c92-4ce8-9c80-f7fe5e517855",
   "metadata": {},
   "outputs": [
    {
     "data": {
      "text/latex": [
       "$\\displaystyle 2 \\gamma \\frac{d}{d t} Q{\\left(t \\right)} + \\omega_{0}^{2} Q{\\left(t \\right)} + \\frac{d^{2}}{d t^{2}} Q{\\left(t \\right)} = \\frac{F_{0} \\sin{\\left(\\omega t + \\phi \\right)}}{m}$"
      ],
      "text/plain": [
       "Eq(2*gamma*Derivative(Q(t), t) + omega_0**2*Q(t) + Derivative(Q(t), (t, 2)), F_0*sin(omega*t + phi)/m)"
      ]
     },
     "execution_count": 2,
     "metadata": {},
     "output_type": "execute_result"
    }
   ],
   "source": [
    "# Import needed modules/libraries\n",
    "import sympy as sp\n",
    "\n",
    "# Define the needed variables\n",
    "t, m, gamma, F_0, omega_0, omega, phi = sp.symbols(\"t m gamma F_0 omega_0 omega phi\") # Independent variable, constants, initial condition\n",
    "Q = sp.Function(\"Q\")(t) # Dependent variable Q as a function of t\n",
    "\n",
    "# Define the second-order differential equation\n",
    "diff_eq = sp.Eq(\n",
    "sp.diff(Q, t, 2) + 2 * gamma * sp.diff(Q, t, 1) + (omega_0)**2 * Q,\n",
    "(F_0 / m) * sp.sin(omega * t + phi)\n",
    ")\n",
    "\n",
    "diff_eq"
   ]
  },
  {
   "cell_type": "code",
   "execution_count": 3,
   "id": "2e38efa5-1817-405e-8e93-07e046837c12",
   "metadata": {},
   "outputs": [
    {
     "data": {
      "text/latex": [
       "$\\displaystyle Q{\\left(t \\right)} = C_{1} e^{t \\left(- \\gamma + \\sqrt{\\gamma^{2} - \\omega_{0}^{2}}\\right)} + C_{2} e^{- t \\left(\\gamma + \\sqrt{\\gamma^{2} - \\omega_{0}^{2}}\\right)} - \\frac{2 F_{0} \\gamma \\omega \\cos{\\left(\\omega t + \\phi \\right)}}{m \\left(4 \\gamma^{2} \\omega^{2} + \\omega^{4} - 2 \\omega^{2} \\omega_{0}^{2} + \\omega_{0}^{4}\\right)} - \\frac{F_{0} \\omega^{2} \\sin{\\left(\\omega t + \\phi \\right)}}{m \\left(4 \\gamma^{2} \\omega^{2} + \\omega^{4} - 2 \\omega^{2} \\omega_{0}^{2} + \\omega_{0}^{4}\\right)} + \\frac{F_{0} \\omega_{0}^{2} \\sin{\\left(\\omega t + \\phi \\right)}}{m \\left(4 \\gamma^{2} \\omega^{2} + \\omega^{4} - 2 \\omega^{2} \\omega_{0}^{2} + \\omega_{0}^{4}\\right)}$"
      ],
      "text/plain": [
       "Eq(Q(t), C1*exp(t*(-gamma + sqrt(gamma**2 - omega_0**2))) + C2*exp(-t*(gamma + sqrt(gamma**2 - omega_0**2))) - 2*F_0*gamma*omega*cos(omega*t + phi)/(m*(4*gamma**2*omega**2 + omega**4 - 2*omega**2*omega_0**2 + omega_0**4)) - F_0*omega**2*sin(omega*t + phi)/(m*(4*gamma**2*omega**2 + omega**4 - 2*omega**2*omega_0**2 + omega_0**4)) + F_0*omega_0**2*sin(omega*t + phi)/(m*(4*gamma**2*omega**2 + omega**4 - 2*omega**2*omega_0**2 + omega_0**4)))"
      ]
     },
     "execution_count": 3,
     "metadata": {},
     "output_type": "execute_result"
    }
   ],
   "source": [
    "# Solve the differential equation; this is the full solution to the differential equation\n",
    "general_solution = sp.dsolve(diff_eq, Q)\n",
    "general_solution"
   ]
  },
  {
   "cell_type": "markdown",
   "id": "1269ac66-617f-4640-b78b-23417de2a42b",
   "metadata": {},
   "source": [
    "## Assignment (2): Create representative plots of $\\bar{C}$ and $\\phi$ "
   ]
  },
  {
   "cell_type": "markdown",
   "id": "d77bc40b-173e-4210-a746-d3e5c1758497",
   "metadata": {},
   "source": [
    "$\\bar{C} = \\frac{F_0/m}{\\sqrt{(\\omega_0^2-\\omega^2)^2+4\\gamma^2\\omega^2}}$ and $tan(\\phi) = \\frac{2\\gamma\\omega}{\\omega_0^2-\\omega^2}$"
   ]
  },
  {
   "cell_type": "code",
   "execution_count": 63,
   "id": "59f568c2-50bf-4543-944a-a45da557881a",
   "metadata": {},
   "outputs": [
    {
     "data": {
      "image/png": "[encoded data removed]",
      "text/plain": [
       "<Figure size 800x500 with 1 Axes>"
      ]
     },
     "metadata": {},
     "output_type": "display_data"
    }
   ],
   "source": [
    "# Import the necessary libraries\n",
    "import numpy as np\n",
    "import matplotlib.pyplot as plt\n",
    "\n",
    "# Define the parameters\n",
    "F_0 = 1.0 # Amplitude of the driving force\n",
    "m = 1.0 # Mass of the system\n",
    "omega_0 = 1.0 # Natural frequency\n",
    "gamma = 0.1 # Damping coefficient\n",
    "    \n",
    "# Create frequency range\n",
    "omega = np.linspace(0, 3, 500)\n",
    "\n",
    "# Define the equation\n",
    "C_bar = (F_0/m) / np.sqrt((omega_0**2 - omega**2)**2 + 4*gamma**2*omega**2)\n",
    "\n",
    "# Plot C_bar\n",
    "plt.figure(figsize=(8,5))\n",
    "plt.plot(omega, C_bar, color='blue')\n",
    "plt.xlabel('$\\omega$')\n",
    "plt.ylabel(r'$\\bar{C}$')\n",
    "plt.title('Frequency vs Amplitude')\n",
    "plt.grid(True)\n",
    "plt.show()\n"
   ]
  },
  {
   "cell_type": "code",
   "execution_count": 44,
   "id": "892ca53c-7d87-43fc-a088-56f3b0ec16d7",
   "metadata": {},
   "outputs": [
    {
     "data": {
      "image/png": "[encoded data removed]",
      "text/plain": [
       "<Figure size 800x500 with 1 Axes>"
      ]
     },
     "metadata": {},
     "output_type": "display_data"
    }
   ],
   "source": [
    "# Import the necessary libraries\n",
    "import numpy as np\n",
    "import matplotlib.pyplot as plt\n",
    "\n",
    "# Define the parameters\n",
    "omega_0 = 1.0 # Natural frequency\n",
    "gamma = 0.1 # Damping coefficient\n",
    "F_0 = 1.0 # Force amplitude\n",
    "m = 1.0 # Mass\n",
    "\n",
    "# Define frequency range\n",
    "omega = np.linspace(0, 3, 500)\n",
    "\n",
    "# Define the equation\n",
    "phi = np.arctan2(2*gamma*omega, omega_0**2 - omega**2)\n",
    "\n",
    "# Plot phi\n",
    "plt.figure(figsize=(8,5))\n",
    "plt.plot(omega, phi, color='red')\n",
    "plt.xlabel('$\\omega$')\n",
    "plt.ylabel('$\\phi$')\n",
    "plt.title('Frequency vs Phase')\n",
    "plt.grid(True)"
   ]
  },
  {
   "cell_type": "code",
   "execution_count": null,
   "id": "031e3771-eff5-4a26-ba6d-749e1e5551d2",
   "metadata": {},
   "outputs": [],
   "source": []
  }
 ],
 "metadata": {
  "kernelspec": {
   "display_name": "Python 3 (ipykernel)",
   "language": "python",
   "name": "python3"
  },
  "language_info": {
   "codemirror_mode": {
    "name": "ipython",
    "version": 3
   },
   "file_extension": ".py",
   "mimetype": "text/x-python",
   "name": "python",
   "nbconvert_exporter": "python",
   "pygments_lexer": "ipython3",
   "version": "3.9.19"
  }
 },
 "nbformat": 4,
 "nbformat_minor": 5
}

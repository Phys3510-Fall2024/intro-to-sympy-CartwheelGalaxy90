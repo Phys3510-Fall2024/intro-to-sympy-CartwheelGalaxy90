{
 "cells": [
  {
   "cell_type": "markdown",
   "id": "f5cc4d99-db9a-4ca0-b920-1443edfd56c8",
   "metadata": {},
   "source": [
    "## Testing the transient solution to the damped harmonic oscillator\n",
    "\n",
    "We want to check that \n",
    "\n",
    "$Q_{tr} = A e^{- \\gamma t} cos(\\omega_\\gamma t) + B e^{- \\gamma t} sin(\\omega_\\gamma t)$\n",
    "\n",
    "is a solution to \n",
    "\n",
    "$\\ddot{Q} + 2 \\gamma \\dot{Q} + \\omega_0^2 Q = 0$"
   ]
  },
  {
   "cell_type": "code",
   "execution_count": 12,
   "id": "8ca6d4b8-f9b3-4b3b-8052-682e63966b19",
   "metadata": {},
   "outputs": [
    {
     "data": {
      "text/plain": [
       "True"
      ]
     },
     "execution_count": 12,
     "metadata": {},
     "output_type": "execute_result"
    }
   ],
   "source": [
    "# Import needed modules/libraries\n",
    "import sympy as sp\n",
    "\n",
    "# Define all needed variables\n",
    "A, B, omega_0, omega_gamma, gamma, t = sp.symbols(\"A, B, omega_0, omega_gamma, gamma, t\", real=True)\n",
    "Q = sp.Function(\"Q\")(t)\n",
    "\n",
    "# Define the differential equation as the left-hand side (which must equal 0 when F_0 = 0)\n",
    "diff_eq_ref = sp.diff(Q,t,2) + 2*gamma*sp.diff(Q,t,1) + (omega_0)**2*Q\n",
    "\n",
    "# Define our guess for the solution and omega_gamma\n",
    "Q_tr_guess = sp.exp(-gamma*t)*(A*sp.cos(omega_gamma*t) + B*sp.sin(omega_gamma*t))\n",
    "omega_gamma_expr = sp.sqrt(omega_0**2 - gamma**2)\n",
    "\n",
    "# Plug our guess into the differential equation; includes taking derivatives\n",
    "diff_eq_test = sp.diff(Q_tr_guess,t,2) + 2*gamma*sp.diff(Q_tr_guess,t,1) + (omega_0)**2*Q_tr_guess\n",
    "\n",
    "#diff_eq_test.simplify()\n",
    "test_result = diff_eq_test.subs(omega_gamma,omega_gamma_expr).simplify().is_zero\n",
    "test_result"
   ]
  },
  {
   "cell_type": "code",
   "execution_count": 24,
   "id": "a2596a56-bdbe-4dc5-ba53-535db93632bc",
   "metadata": {},
   "outputs": [],
   "source": [
    "# sp.plot(sp.cos(t))"
   ]
  },
  {
   "cell_type": "markdown",
   "id": "14cb3c24-3aff-4abc-8ccc-5396fef14095",
   "metadata": {},
   "source": [
    "## Deriving the steady solution to the damped, driven harmonic oscillator\n",
    "\n",
    "We want to solve\n",
    "\n",
    "$\\ddot{Q} + 2 \\gamma \\dot{Q} + \\omega_0^2 Q = \\frac{F_0}{m} e^{i \\omega t}$\n",
    "\n",
    "with\n",
    "\n",
    "$Q_s = C e^{i \\omega t}$"
   ]
  },
  {
   "cell_type": "code",
   "execution_count": 29,
   "id": "0cce99aa-165d-4e5a-9b68-cd8824936540",
   "metadata": {},
   "outputs": [
    {
     "data": {
      "text/latex": [
       "$\\displaystyle \\frac{F_{0} \\cos{\\left(\\omega t \\right)}}{m} = \\frac{F_{0} e^{i \\omega t}}{m}$"
      ],
      "text/plain": [
       "Eq(F_0*cos(omega*t)/m, F_0*exp(I*omega*t)/m)"
      ]
     },
     "execution_count": 29,
     "metadata": {},
     "output_type": "execute_result"
    }
   ],
   "source": [
    "# Import needed modules/libraries\n",
    "import sympy as sp\n",
    "\n",
    "# Define all needed variables and functions\n",
    "omega_0, omega, gamma, t, F_0, m = sp.symbols(\"omega_0, omega, gamma, t, F_0, m\", real=True)\n",
    "C = sp.symbols(\"C\",complex=True)\n",
    "Q = sp.Function(\"Q\")(t)\n",
    "F = sp.Function(\"F\")(t)\n",
    "\n",
    "# Define the differential equation\n",
    "diff_eq_ref = sp.Eq(\n",
    "    sp.diff(Q,t,2) + 2*gamma*sp.diff(Q,t,1) + (omega_0)**2*Q,  # LHS\n",
    "    F_0/m # RHS\n",
    ")\n",
    "\n",
    "# Define our guess for the solution\n",
    "Q_st_guess = C*sp.exp(sp.I*omega*t)\n",
    "drive_expr = (F_0/m)*sp.exp(sp.I*omega*t)\n",
    "drive_real = sp.re(drive_expr)\n",
    "\n",
    "# Plug in our guess\n",
    "diff_eqn_guess = sp.Eq(\n",
    "    sp.diff(Q_st_guess,t,2) + 2*gamma*sp.diff(Q_st_guess,t,1) + (omega_0)**2*Q_st_guess,  # LHS\n",
    "    drive_expr # RHS\n",
    ")\n",
    "# Solve for the coefficient C\n",
    "C_sol = sp.solve(diff_eqn_guess,C)[0]\n",
    "\n",
    "# Find the real part of the solution\n",
    "Q_sol = sp.re(sp.expand_complex(C_sol*sp.exp(sp.I*omega*t)).simplify())\n",
    "\n",
    "# Plug the real part of the solution into the differential equation\n",
    "sp.Eq(\n",
    "    sp.diff(Q_sol,t,2) + 2*gamma*sp.diff(Q_sol,t,1) + (omega_0)**2*Q_sol,  #LHS\n",
    "    drive_expr #RH\n",
    ").simplify()\n",
    "\n",
    "# Test the alternative, analytic form of the solution"
   ]
  },
  {
   "cell_type": "markdown",
   "id": "bd98f888-a14c-43af-9e17-e4e5a5fd6a8d",
   "metadata": {},
   "source": [
    "## Deriving the steady solution to the damped, driven harmonic oscillator\n",
    "\n",
    "We want to solve\n",
    "\n",
    "$\\ddot{Q} + 2 \\gamma \\dot{Q} + \\omega_0^2 Q = \\frac{F_0}{m} sin(\\omega t)$\n",
    "\n",
    "with\n",
    "\n",
    "$Q_s = \\bar{C} cos(\\omega t - \\phi)$ where $\\bar{C} = \\frac{F_0/m}{\\sqrt{(\\omega_0^2-\\omega^2)^2+4\\gamma^2\\omega^2}}$ and $tan(\\phi) = \\frac{2\\gamma\\omega}{\\omega_0^2-\\omega^2}$"
   ]
  },
  {
   "cell_type": "code",
   "execution_count": 46,
   "id": "e1ce865d-e4cd-499c-b1be-5f003f30ffad",
   "metadata": {},
   "outputs": [
    {
     "data": {
      "text/latex": [
       "$\\displaystyle \\frac{F_{0} \\sin{\\left(\\omega t + \\phi \\right)}}{m} = \\frac{F_{0} \\left(- 2 \\gamma \\omega \\sin{\\left(\\omega t - \\phi \\right)} - \\omega^{2} \\cos{\\left(\\omega t - \\phi \\right)} + \\omega_{0}^{2} \\cos{\\left(\\omega t - \\phi \\right)}\\right)}{m \\sqrt{4 \\gamma^{2} \\omega^{2} + \\left(\\omega^{2} - \\omega_{0}^{2}\\right)^{2}}}$"
      ],
      "text/plain": [
       "Eq(F_0*sin(omega*t + phi)/m, F_0*(-2*gamma*omega*sin(omega*t - phi) - omega**2*cos(omega*t - phi) + omega_0**2*cos(omega*t - phi))/(m*sqrt(4*gamma**2*omega**2 + (omega**2 - omega_0**2)**2)))"
      ]
     },
     "execution_count": 46,
     "metadata": {},
     "output_type": "execute_result"
    }
   ],
   "source": [
    "# Import needed modules/libraries\n",
    "import sympy as sp\n",
    "\n",
    "# Define all needed variables and functions\n",
    "omega_0, omega, gamma, t, F_0, m, phi = sp.symbols(\"omega_0, omega, gamma, t, F_0, m, phi\", real=True)\n",
    "C_bar = sp.symbols(\"C_bar\")\n",
    "Q = sp.Function(\"Q\")(t)\n",
    "F = sp.Function(\"F\")(t)\n",
    "\n",
    "# Define the differential equation\n",
    "diff_eq_ref2 = sp.Eq(\n",
    "sp.diff(Q, t, 2) + 2 * gamma * sp.diff(Q, t, 1) + (omega_0)**2 * Q,\n",
    "(F_0 / m) * sp.sin(omega * t + phi)\n",
    ")\n",
    "\n",
    "# Define our guess for the solution\n",
    "C_bar = (F_0 / m) / sp.sqrt(((omega_0)**2 - omega**2)**2 + 4 * gamma**2 * omega**2)\n",
    "Q_st_guess2 = C_bar * sp.cos(omega * t - phi)\n",
    "\n",
    "# Plug in our guess\n",
    "diff_eq_guess2 = sp.Eq(\n",
    "sp.diff(Q_st_guess2, t, 2) + 2 * gamma * sp.diff(Q_st_guess2, t, 1) + (omega_0)**2 * Q_st_guess2,\n",
    "(F_0 / m) * sp.sin(omega * t + phi)\n",
    ").simplify()\n",
    "\n",
    "diff_eq_guess2"
   ]
  },
  {
   "cell_type": "code",
   "execution_count": null,
   "id": "7a5b5483-35e5-4ebe-92f5-0b1a3a61ea16",
   "metadata": {},
   "outputs": [],
   "source": []
  }
 ],
 "metadata": {
  "kernelspec": {
   "display_name": "Python 3 (ipykernel)",
   "language": "python",
   "name": "python3"
  },
  "language_info": {
   "codemirror_mode": {
    "name": "ipython",
    "version": 3
   },
   "file_extension": ".py",
   "mimetype": "text/x-python",
   "name": "python",
   "nbconvert_exporter": "python",
   "pygments_lexer": "ipython3",
   "version": "3.9.19"
  }
 },
 "nbformat": 4,
 "nbformat_minor": 5
}

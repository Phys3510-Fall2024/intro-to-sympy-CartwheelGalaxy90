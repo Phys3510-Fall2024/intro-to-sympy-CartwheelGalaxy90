{
 "cells": [
  {
   "cell_type": "markdown",
   "id": "e7fbcbbe-213d-4ee1-93d7-fe3e0eabb9f4",
   "metadata": {},
   "source": [
    "$$ m \\ddot{Q} + 2 \\gamma m \\dot{Q} + k Q = F_0 \\sin(\\omega t + \\phi) $$  \n",
    "$$ \\ddot{Q} + 2 \\gamma \\dot{Q} + \\omega_0^2 Q = \\frac{F_0}{m} \\sin(\\omega t + \\phi) $$ \n",
    "\n",
    "## Assignment (1): Use `SymPy` to test the solutions we derived in class last week. \n",
    "\n",
    "$Q_{tr} = A e^{- \\gamma t} cos(\\omega_\\gamma t) + B e^{- \\gamma t} sin(\\omega_\\gamma t)$ and $Q_{st} = \\bar{C} cos(\\omega t - \\phi)$\n",
    "\n",
    "where\n",
    "\n",
    "$\\omega_\\gamma = \\sqrt{\\omega_0^2 - \\gamma^2}$, $\\bar{C} = \\frac{F_0/m}{\\sqrt{(\\omega_0^2-\\omega^2)^2+4\\gamma^2\\omega^2}}$, and $tan(\\phi) = \\frac{2\\gamma\\omega}{\\omega_0^2-\\omega^2}$"
   ]
  },
  {
   "cell_type": "code",
   "execution_count": 12,
   "id": "8597be2e-b78b-4f02-a1a3-dad34a2d3460",
   "metadata": {},
   "outputs": [
    {
     "data": {
      "text/latex": [
       "$\\displaystyle 2 \\gamma \\frac{d}{d t} Q{\\left(t \\right)} + \\omega_{0}^{2} Q{\\left(t \\right)} + \\frac{d^{2}}{d t^{2}} Q{\\left(t \\right)} = \\frac{F_{0} \\sin{\\left(\\omega t + \\phi \\right)}}{m}$"
      ],
      "text/plain": [
       "Eq(2*gamma*Derivative(Q(t), t) + omega_0**2*Q(t) + Derivative(Q(t), (t, 2)), F_0*sin(omega*t + phi)/m)"
      ]
     },
     "execution_count": 12,
     "metadata": {},
     "output_type": "execute_result"
    }
   ],
   "source": [
    "# Import needed modules/libraries\n",
    "import sympy as sp\n",
    "\n",
    "# Define the needed variables\n",
    "t, m, gamma, F_0, omega_0, omega, phi = sp.symbols('t m gamma F_0 omega_0 omega phi') # Independent variable, constants, initial condition\n",
    "Q = sp.Function('Q')(t) # Dependent variable Q as a function of t\n",
    "\n",
    "# Define the second-order differential equation\n",
    "diff_eq = sp.Eq(Q.diff(t, t) + 2 * gamma * Q.diff(t) + (omega_0)**2 * Q, ((F_0)/m) * sp.sin(omega * t + phi))\n",
    "\n",
    "diff_eq"
   ]
  },
  {
   "cell_type": "code",
   "execution_count": 6,
   "id": "a91f149c-00cb-44e4-8e37-df1c3a4d3ada",
   "metadata": {},
   "outputs": [
    {
     "data": {
      "text/latex": [
       "$\\displaystyle Q{\\left(t \\right)} = C_{1} e^{t \\left(- \\gamma + \\sqrt{\\gamma^{2} - \\omega_{0}^{2}}\\right)} + C_{2} e^{- t \\left(\\gamma + \\sqrt{\\gamma^{2} - \\omega_{0}^{2}}\\right)} - \\frac{2 F_{0} \\gamma \\omega \\cos{\\left(\\omega t + \\phi \\right)}}{m \\left(4 \\gamma^{2} \\omega^{2} + \\omega^{4} - 2 \\omega^{2} \\omega_{0}^{2} + \\omega_{0}^{4}\\right)} - \\frac{F_{0} \\omega^{2} \\sin{\\left(\\omega t + \\phi \\right)}}{m \\left(4 \\gamma^{2} \\omega^{2} + \\omega^{4} - 2 \\omega^{2} \\omega_{0}^{2} + \\omega_{0}^{4}\\right)} + \\frac{F_{0} \\omega_{0}^{2} \\sin{\\left(\\omega t + \\phi \\right)}}{m \\left(4 \\gamma^{2} \\omega^{2} + \\omega^{4} - 2 \\omega^{2} \\omega_{0}^{2} + \\omega_{0}^{4}\\right)}$"
      ],
      "text/plain": [
       "Eq(Q(t), C1*exp(t*(-gamma + sqrt(gamma**2 - omega_0**2))) + C2*exp(-t*(gamma + sqrt(gamma**2 - omega_0**2))) - 2*F_0*gamma*omega*cos(omega*t + phi)/(m*(4*gamma**2*omega**2 + omega**4 - 2*omega**2*omega_0**2 + omega_0**4)) - F_0*omega**2*sin(omega*t + phi)/(m*(4*gamma**2*omega**2 + omega**4 - 2*omega**2*omega_0**2 + omega_0**4)) + F_0*omega_0**2*sin(omega*t + phi)/(m*(4*gamma**2*omega**2 + omega**4 - 2*omega**2*omega_0**2 + omega_0**4)))"
      ]
     },
     "execution_count": 6,
     "metadata": {},
     "output_type": "execute_result"
    }
   ],
   "source": [
    "# Solve the differential equation\n",
    "general_solution = sp.dsolve(diff_eq, Q)\n",
    "general_solution"
   ]
  },
  {
   "cell_type": "code",
   "execution_count": null,
   "id": "49885a82-aede-40ab-9dd0-c5a5756d450d",
   "metadata": {},
   "outputs": [],
   "source": []
  }
 ],
 "metadata": {
  "kernelspec": {
   "display_name": "Python 3 (ipykernel)",
   "language": "python",
   "name": "python3"
  },
  "language_info": {
   "codemirror_mode": {
    "name": "ipython",
    "version": 3
   },
   "file_extension": ".py",
   "mimetype": "text/x-python",
   "name": "python",
   "nbconvert_exporter": "python",
   "pygments_lexer": "ipython3",
   "version": "3.9.19"
  }
 },
 "nbformat": 4,
 "nbformat_minor": 5
}
